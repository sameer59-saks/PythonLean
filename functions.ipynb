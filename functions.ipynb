{
 "cells": [
  {
   "cell_type": "code",
   "execution_count": null,
   "metadata": {},
   "outputs": [],
   "source": [
    "def turn_right():\n",
    "    turn_left()\n",
    "    turn_left()\n",
    "    turn_left()\n",
    "\n",
    "def keep_moving():\n",
    "    if not wall_in_front():\n",
    "        move()\n",
    "        keep_moving()\n",
    "\n",
    "def kudd_up():\n",
    "    times = 0\n",
    "    while wall_on_right():\n",
    "        move()\n",
    "        times += 1\n",
    "    return times\n",
    "    \n",
    "while not at_goal():\n",
    "    \n",
    "    if wall_in_front():\n",
    "        turn_left()\n",
    "        times_up = kudd_up()\n",
    "        turn_right()\n",
    "        move()\n",
    "        turn_right()\n",
    "        for i in range(times_up):\n",
    "            move()\n",
    "        turn_left()\n",
    "    else:\n",
    "        keep_moving()\n",
    "    pause()"
   ]
  }
 ],
 "metadata": {
  "kernelspec": {
   "display_name": "Python 3",
   "language": "python",
   "name": "python3"
  },
  "language_info": {
   "codemirror_mode": {
    "name": "ipython",
    "version": 3
   },
   "file_extension": ".py",
   "mimetype": "text/x-python",
   "name": "python",
   "nbconvert_exporter": "python",
   "pygments_lexer": "ipython3",
   "version": "3.7.6"
  }
 },
 "nbformat": 4,
 "nbformat_minor": 4
}
