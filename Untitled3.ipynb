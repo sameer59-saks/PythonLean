{
 "cells": [
  {
   "cell_type": "code",
   "execution_count": 1,
   "metadata": {},
   "outputs": [
    {
     "name": "stdout",
     "output_type": "stream",
     "text": [
      "16\n"
     ]
    }
   ],
   "source": [
    "def bar():\n",
    "    my_variable = 9\n",
    " \n",
    "    if 16 > 9:\n",
    "      my_variable = 16\n",
    " \n",
    "    print(my_variable)\n",
    " \n",
    "bar()"
   ]
  },
  {
   "cell_type": "code",
   "execution_count": 20,
   "metadata": {},
   "outputs": [
    {
     "name": "stdout",
     "output_type": "stream",
     "text": [
      "Enter which level you want to get into easy=1 , medium = 2 ,hard = 3\n",
      "1\n",
      "55\n",
      "Guess the number number between 1 to 100 20\n",
      "Guess the number number between 1 to 100 55\n",
      "you guessed it right\n"
     ]
    }
   ],
   "source": [
    "#Guessing game\n",
    "\n",
    "#Easy 10 attempts\n",
    "\n",
    "#Medium 5 attempts\n",
    "\n",
    "#Hard 3 Attempts\n",
    "\n",
    "\n",
    "#track attemps global variable\n",
    "\n",
    "\n",
    "#attempts = 0\n",
    "\n",
    "import random\n",
    "\n",
    "def easy():\n",
    "    ranno = random.randint(1,100)\n",
    "    print(ranno)\n",
    "    \n",
    "    \n",
    "    for cnt in range(1,10):      \n",
    "        if cnt != 10:\n",
    "            n = int(input('Guess the number number between 1 to 100 '))\n",
    "            if ranno == n:\n",
    "                print('you guessed it right')\n",
    "                break\n",
    "            elif n > ranno:\n",
    "                print('You are high than the number, give another try ')\n",
    "                cnt+=1\n",
    "            elif n < ranno:\n",
    "                print('You are lower than the number, give onother try ')\n",
    "                cnt+=1\n",
    "\n",
    "        \n",
    "        \n",
    "\n",
    "\n",
    "#Enter which level you want to get into easy 1 ,2 ,3 \n",
    "\n",
    "level = int(input(\"Enter which level you want to get into easy=1 , medium = 2 ,hard = 3\\n\"))\n",
    "\n",
    "if level == 1:\n",
    "    easy()"
   ]
  },
  {
   "cell_type": "code",
   "execution_count": null,
   "metadata": {},
   "outputs": [],
   "source": []
  },
  {
   "cell_type": "code",
   "execution_count": null,
   "metadata": {},
   "outputs": [],
   "source": []
  }
 ],
 "metadata": {
  "kernelspec": {
   "display_name": "Python 3",
   "language": "python",
   "name": "python3"
  },
  "language_info": {
   "codemirror_mode": {
    "name": "ipython",
    "version": 3
   },
   "file_extension": ".py",
   "mimetype": "text/x-python",
   "name": "python",
   "nbconvert_exporter": "python",
   "pygments_lexer": "ipython3",
   "version": "3.7.6"
  }
 },
 "nbformat": 4,
 "nbformat_minor": 4
}
