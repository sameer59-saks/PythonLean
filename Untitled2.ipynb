{
 "cells": [
  {
   "cell_type": "code",
   "execution_count": 1,
   "metadata": {},
   "outputs": [
    {
     "ename": "SyntaxError",
     "evalue": "invalid syntax (<ipython-input-1-186f5abe7914>, line 8)",
     "output_type": "error",
     "traceback": [
      "\u001b[0;36m  File \u001b[0;32m\"<ipython-input-1-186f5abe7914>\"\u001b[0;36m, line \u001b[0;32m8\u001b[0m\n\u001b[0;31m    elif wall_on_front():\u001b[0m\n\u001b[0m       ^\u001b[0m\n\u001b[0;31mSyntaxError\u001b[0m\u001b[0;31m:\u001b[0m invalid syntax\n"
     ]
    }
   ],
   "source": [
    "def turn_right():\n",
    "    for i in range(1,3):\n",
    "        turn_left()        \n",
    "\n",
    "def keep_moving():\n",
    "    while not at_goal() and front_is_clear():\n",
    "        move() \n",
    "    elif wall_on_front():\n",
    "        turn_right()\n",
    "\n",
    "def main_logic():\n",
    "    if right_is_clear():\n",
    "        turn_right()\n",
    "        keep_moving()\n",
    "    if is_facing_north():\n",
    "        move()\n",
    "    if wall_on_right():\n",
    "        turn_right()\n",
    "        move()\n",
    "    \n",
    "main_logic()"
   ]
  },
  {
   "cell_type": "code",
   "execution_count": null,
   "metadata": {},
   "outputs": [],
   "source": []
  }
 ],
 "metadata": {
  "kernelspec": {
   "display_name": "Python 3",
   "language": "python",
   "name": "python3"
  },
  "language_info": {
   "codemirror_mode": {
    "name": "ipython",
    "version": 3
   },
   "file_extension": ".py",
   "mimetype": "text/x-python",
   "name": "python",
   "nbconvert_exporter": "python",
   "pygments_lexer": "ipython3",
   "version": "3.7.6"
  }
 },
 "nbformat": 4,
 "nbformat_minor": 4
}
